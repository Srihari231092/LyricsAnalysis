{
 "cells": [
  {
   "cell_type": "markdown",
   "metadata": {},
   "source": [
    "# WHAT DOES MY BAND LIKE TO SING ABOUT?"
   ]
  },
  {
   "cell_type": "code",
   "execution_count": 1,
   "metadata": {},
   "outputs": [
    {
     "data": {
      "text/html": [
       "<style>.container { width:100% !important; }</style>"
      ],
      "text/plain": [
       "<IPython.core.display.HTML object>"
      ]
     },
     "metadata": {},
     "output_type": "display_data"
    }
   ],
   "source": [
    "import pandas as pd\n",
    "from IPython.core.display import display, HTML\n",
    "import matplotlib.pyplot as plt\n",
    "import os\n",
    "from os.path import join as pjoin\n",
    "import numpy as np\n",
    "import pandas as pd\n",
    "from time import time, sleep, strftime, localtime\n",
    "from datetime import datetime\n",
    "\n",
    "%reload_ext autoreload\n",
    "%autoreload 1\n",
    "\n",
    "pd.set_option('display.max_rows', 800)\n",
    "pd.set_option('display.max_columns', 500)\n",
    "pd.set_option('display.width', 100)\n",
    "pd.set_option('display.max_colwidth', 100)\n",
    "\n",
    "display(HTML(\"<style>.container { width:100% !important; }</style>\"))\n",
    "\n",
    "import warnings\n",
    "warnings.filterwarnings('ignore')"
   ]
  },
  {
   "cell_type": "code",
   "execution_count": 2,
   "metadata": {},
   "outputs": [],
   "source": [
    "import re, string\n",
    "import requests\n",
    "from bs4 import BeautifulSoup\n",
    "from itertools import groupby\n"
   ]
  },
  {
   "cell_type": "code",
   "execution_count": 74,
   "metadata": {
    "scrolled": false
   },
   "outputs": [],
   "source": [
    "all_songs_df = pd.read_csv(\"./all_song_maps.csv\")\n",
    "df_band_albums = pd.read_csv(\"./df_band_albums.csv\")"
   ]
  },
  {
   "cell_type": "code",
   "execution_count": 75,
   "metadata": {},
   "outputs": [
    {
     "data": {
      "text/plain": [
       "(186, 5)"
      ]
     },
     "metadata": {},
     "output_type": "display_data"
    },
    {
     "data": {
      "text/html": [
       "<div>\n",
       "<style scoped>\n",
       "    .dataframe tbody tr th:only-of-type {\n",
       "        vertical-align: middle;\n",
       "    }\n",
       "\n",
       "    .dataframe tbody tr th {\n",
       "        vertical-align: top;\n",
       "    }\n",
       "\n",
       "    .dataframe thead th {\n",
       "        text-align: right;\n",
       "    }\n",
       "</style>\n",
       "<table border=\"1\" class=\"dataframe\">\n",
       "  <thead>\n",
       "    <tr style=\"text-align: right;\">\n",
       "      <th></th>\n",
       "      <th>title</th>\n",
       "      <th>year</th>\n",
       "      <th>is_single</th>\n",
       "      <th>song_name</th>\n",
       "      <th>song_lyrics</th>\n",
       "    </tr>\n",
       "  </thead>\n",
       "  <tbody>\n",
       "    <tr>\n",
       "      <th>0</th>\n",
       "      <td>Iron Maiden</td>\n",
       "      <td>1980</td>\n",
       "      <td>False</td>\n",
       "      <td>'Prowler'</td>\n",
       "      <td>Walking through the city, looking oh so pretty\\nI've just got to find my way\\nSee the ladies fla...</td>\n",
       "    </tr>\n",
       "    <tr>\n",
       "      <th>1</th>\n",
       "      <td>Iron Maiden</td>\n",
       "      <td>1980</td>\n",
       "      <td>False</td>\n",
       "      <td>'Sanctuary'</td>\n",
       "      <td>Out of winter came a warhorse of steel\\nI've never killed a woman before\\nBut I know how it feel...</td>\n",
       "    </tr>\n",
       "    <tr>\n",
       "      <th>2</th>\n",
       "      <td>Iron Maiden</td>\n",
       "      <td>1980</td>\n",
       "      <td>False</td>\n",
       "      <td>'Remember Tomorrow'</td>\n",
       "      <td>Unchain the colours before my eyes,\\nYesterday's sorrows, tomorrow's white lies.\\nScan the horiz...</td>\n",
       "    </tr>\n",
       "    <tr>\n",
       "      <th>3</th>\n",
       "      <td>Iron Maiden</td>\n",
       "      <td>1980</td>\n",
       "      <td>False</td>\n",
       "      <td>'Running Free'</td>\n",
       "      <td>Just sixteen, a pickup truck, out of money, out of luck.\\nI've got nowhere to call my own, hit t...</td>\n",
       "    </tr>\n",
       "    <tr>\n",
       "      <th>4</th>\n",
       "      <td>Iron Maiden</td>\n",
       "      <td>1980</td>\n",
       "      <td>False</td>\n",
       "      <td>'Phantom Of The Opera'</td>\n",
       "      <td>I've been looking so long for you now you won't get away from my grasp\\nYou've been living so lo...</td>\n",
       "    </tr>\n",
       "  </tbody>\n",
       "</table>\n",
       "</div>"
      ],
      "text/plain": [
       "          title  year  is_single               song_name  \\\n",
       "0  Iron Maiden   1980      False               'Prowler'   \n",
       "1  Iron Maiden   1980      False             'Sanctuary'   \n",
       "2  Iron Maiden   1980      False     'Remember Tomorrow'   \n",
       "3  Iron Maiden   1980      False          'Running Free'   \n",
       "4  Iron Maiden   1980      False  'Phantom Of The Opera'   \n",
       "\n",
       "                                                                                           song_lyrics  \n",
       "0  Walking through the city, looking oh so pretty\\nI've just got to find my way\\nSee the ladies fla...  \n",
       "1  Out of winter came a warhorse of steel\\nI've never killed a woman before\\nBut I know how it feel...  \n",
       "2  Unchain the colours before my eyes,\\nYesterday's sorrows, tomorrow's white lies.\\nScan the horiz...  \n",
       "3  Just sixteen, a pickup truck, out of money, out of luck.\\nI've got nowhere to call my own, hit t...  \n",
       "4  I've been looking so long for you now you won't get away from my grasp\\nYou've been living so lo...  "
      ]
     },
     "metadata": {},
     "output_type": "display_data"
    }
   ],
   "source": [
    "discography_df = pd.merge(left=df_band_albums[[\"title\", \"year\", \"is_single\"]], right=all_songs_df,left_on=\"title\", right_on=\"album_name\", how=\"inner\")\n",
    "discography_df.drop(\"album_name\", axis=1, inplace=True)\n",
    "display(\n",
    "    discography_df.shape,\n",
    "    discography_df.head()\n",
    ")"
   ]
  },
  {
   "cell_type": "markdown",
   "metadata": {},
   "source": [
    "# Cleaning "
   ]
  },
  {
   "cell_type": "code",
   "execution_count": 76,
   "metadata": {},
   "outputs": [],
   "source": [
    "# Remove all the escape delimiters in the lyrics\n",
    "discography_df[\"song_lyrics\"] = discography_df[\"song_lyrics\"].apply(lambda s: re.sub(\"[\\n\\t\\r]\", ' ', s))"
   ]
  },
  {
   "cell_type": "code",
   "execution_count": 77,
   "metadata": {},
   "outputs": [
    {
     "name": "stdout",
     "output_type": "stream",
     "text": [
      "these are the non-alphanumeric unique characters -  ['?', '.', ',', \"'\", ' ']\n"
     ]
    }
   ],
   "source": [
    "# What all special characters exist in the lyrics? \n",
    "unique_characters = list(set(''.join(discography_df[\"song_lyrics\"].apply(lambda s: re.sub(\"[\\w]\", '', s)).values.ravel()[0])))\n",
    "print(\"these are the non-alphanumeric unique characters - \", unique_characters)\n",
    "discography_df[\"song_lyrics\"] = discography_df[\"song_lyrics\"].apply(lambda s: re.sub(\"[^a-zA-Z0-9]\", ' ', s))"
   ]
  },
  {
   "cell_type": "code",
   "execution_count": null,
   "metadata": {},
   "outputs": [],
   "source": []
  }
 ],
 "metadata": {
  "kernelspec": {
   "display_name": "Python 3",
   "language": "python",
   "name": "python3"
  },
  "language_info": {
   "codemirror_mode": {
    "name": "ipython",
    "version": 3
   },
   "file_extension": ".py",
   "mimetype": "text/x-python",
   "name": "python",
   "nbconvert_exporter": "python",
   "pygments_lexer": "ipython3",
   "version": "3.6.7"
  }
 },
 "nbformat": 4,
 "nbformat_minor": 2
}
