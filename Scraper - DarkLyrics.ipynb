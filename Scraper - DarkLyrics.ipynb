{
 "cells": [
  {
   "cell_type": "code",
   "execution_count": 1,
   "metadata": {},
   "outputs": [
    {
     "data": {
      "text/html": [
       "<style>.container { width:100% !important; }</style>"
      ],
      "text/plain": [
       "<IPython.core.display.HTML object>"
      ]
     },
     "metadata": {},
     "output_type": "display_data"
    }
   ],
   "source": [
    "import pandas as pd\n",
    "from IPython.core.display import display, HTML\n",
    "import matplotlib.pyplot as plt\n",
    "import os\n",
    "from os.path import join as pjoin\n",
    "import numpy as np\n",
    "import pandas as pd\n",
    "from time import time, sleep, strftime, localtime\n",
    "from datetime import datetime\n",
    "\n",
    "%reload_ext autoreload\n",
    "%autoreload 1\n",
    "\n",
    "pd.set_option('display.max_rows', 800)\n",
    "pd.set_option('display.max_columns', 500)\n",
    "pd.set_option('display.width', 100)\n",
    "pd.set_option('display.max_colwidth', 100)\n",
    "\n",
    "display(HTML(\"<style>.container { width:100% !important; }</style>\"))\n",
    "\n",
    "import warnings\n",
    "warnings.filterwarnings('ignore')"
   ]
  },
  {
   "cell_type": "code",
   "execution_count": 2,
   "metadata": {},
   "outputs": [],
   "source": [
    "import re, string\n",
    "import requests\n",
    "from bs4 import BeautifulSoup\n",
    "from itertools import groupby\n"
   ]
  },
  {
   "cell_type": "code",
   "execution_count": 3,
   "metadata": {
    "scrolled": false
   },
   "outputs": [
    {
     "name": "stdout",
     "output_type": "stream",
     "text": [
      "http://www.darklyrics.com/i/ironmaiden.html\n"
     ]
    }
   ],
   "source": [
    "main_url = 'http://www.darklyrics.com/'\n",
    "band_url = 'i/ironmaiden.html'\n",
    "# band_url = 'm/metallica.html'\n",
    "album_list_url = main_url + band_url\n",
    "print(album_list_url)\n",
    "page = requests.get(album_list_url).text"
   ]
  },
  {
   "cell_type": "code",
   "execution_count": 4,
   "metadata": {},
   "outputs": [],
   "source": [
    "soup = BeautifulSoup(page, \"html.parser\")"
   ]
  },
  {
   "cell_type": "code",
   "execution_count": 5,
   "metadata": {
    "scrolled": false
   },
   "outputs": [],
   "source": [
    "albums = soup.find_all(attrs={\"class\":\"album\"})\n",
    "\n",
    "list_band_albums = list([])\n",
    "\n",
    "for alb in albums:\n",
    "    s = alb.find('h2').text\n",
    "    album_name = re.search('(?<=\")(.*)(?=\")', s).group(0)\n",
    "    album_year = re.search('(?<=\\()(.*)(?=\\))', s).group(0)\n",
    "    song_names = [i.text for i in alb.find_all('a')]\n",
    "    song_hrefs = [pjoin(main_url, i['href'][3:]) for i in alb.find_all('a')]\n",
    "    dict_album = {\n",
    "        \"album\":album_name,\n",
    "        \"year\":album_year,\n",
    "        \"songs\":list(zip(song_names, song_hrefs))\n",
    "    }\n",
    "    list_band_albums.append(dict_album)"
   ]
  },
  {
   "cell_type": "code",
   "execution_count": 6,
   "metadata": {
    "scrolled": true
   },
   "outputs": [
    {
     "data": {
      "text/html": [
       "<div>\n",
       "<style scoped>\n",
       "    .dataframe tbody tr th:only-of-type {\n",
       "        vertical-align: middle;\n",
       "    }\n",
       "\n",
       "    .dataframe tbody tr th {\n",
       "        vertical-align: top;\n",
       "    }\n",
       "\n",
       "    .dataframe thead th {\n",
       "        text-align: right;\n",
       "    }\n",
       "</style>\n",
       "<table border=\"1\" class=\"dataframe\">\n",
       "  <thead>\n",
       "    <tr style=\"text-align: right;\">\n",
       "      <th></th>\n",
       "      <th>album</th>\n",
       "      <th>songs</th>\n",
       "      <th>year</th>\n",
       "    </tr>\n",
       "  </thead>\n",
       "  <tbody>\n",
       "    <tr>\n",
       "      <th>0</th>\n",
       "      <td>Iron Maiden</td>\n",
       "      <td>[(Prowler, http://www.darklyrics.com/lyrics/ironmaiden/ironmaiden.html#1), (Sanctuary, http://ww...</td>\n",
       "      <td>1980</td>\n",
       "    </tr>\n",
       "    <tr>\n",
       "      <th>1</th>\n",
       "      <td>Running Free</td>\n",
       "      <td>[(Running Free, http://www.darklyrics.com/lyrics/ironmaiden/runningfree.html#1), (Burning Ambiti...</td>\n",
       "      <td>1980</td>\n",
       "    </tr>\n",
       "    <tr>\n",
       "      <th>2</th>\n",
       "      <td>Women In Uniform</td>\n",
       "      <td>[(Women In Uniform, http://www.darklyrics.com/lyrics/ironmaiden/womeninuniform.html#1), (Invasio...</td>\n",
       "      <td>1980</td>\n",
       "    </tr>\n",
       "    <tr>\n",
       "      <th>3</th>\n",
       "      <td>Killers</td>\n",
       "      <td>[(The Ides Of March, http://www.darklyrics.com/lyrics/ironmaiden/killers.html#1), (Wrathchild, h...</td>\n",
       "      <td>1981</td>\n",
       "    </tr>\n",
       "    <tr>\n",
       "      <th>4</th>\n",
       "      <td>The Number Of The Beast</td>\n",
       "      <td>[(Invaders, http://www.darklyrics.com/lyrics/ironmaiden/thenumberofthebeast.html#1), (Children O...</td>\n",
       "      <td>1982</td>\n",
       "    </tr>\n",
       "  </tbody>\n",
       "</table>\n",
       "</div>"
      ],
      "text/plain": [
       "                     album  \\\n",
       "0              Iron Maiden   \n",
       "1             Running Free   \n",
       "2         Women In Uniform   \n",
       "3                  Killers   \n",
       "4  The Number Of The Beast   \n",
       "\n",
       "                                                                                                 songs  \\\n",
       "0  [(Prowler, http://www.darklyrics.com/lyrics/ironmaiden/ironmaiden.html#1), (Sanctuary, http://ww...   \n",
       "1  [(Running Free, http://www.darklyrics.com/lyrics/ironmaiden/runningfree.html#1), (Burning Ambiti...   \n",
       "2  [(Women In Uniform, http://www.darklyrics.com/lyrics/ironmaiden/womeninuniform.html#1), (Invasio...   \n",
       "3  [(The Ides Of March, http://www.darklyrics.com/lyrics/ironmaiden/killers.html#1), (Wrathchild, h...   \n",
       "4  [(Invaders, http://www.darklyrics.com/lyrics/ironmaiden/thenumberofthebeast.html#1), (Children O...   \n",
       "\n",
       "   year  \n",
       "0  1980  \n",
       "1  1980  \n",
       "2  1980  \n",
       "3  1981  \n",
       "4  1982  "
      ]
     },
     "execution_count": 6,
     "metadata": {},
     "output_type": "execute_result"
    }
   ],
   "source": [
    "df_band_albums = pd.DataFrame(list_band_albums)\n",
    "df_band_albums.head()"
   ]
  },
  {
   "cell_type": "code",
   "execution_count": 9,
   "metadata": {},
   "outputs": [
    {
     "data": {
      "text/plain": [
       "<Response [200]>"
      ]
     },
     "execution_count": 9,
     "metadata": {},
     "output_type": "execute_result"
    }
   ],
   "source": [
    "requests.get(song_href)"
   ]
  },
  {
   "cell_type": "code",
   "execution_count": 7,
   "metadata": {
    "scrolled": false
   },
   "outputs": [
    {
     "name": "stdout",
     "output_type": "stream",
     "text": [
      "\n",
      "album==\"Iron Maiden\"\n",
      "Prowler \t http://www.darklyrics.com/lyrics/ironmaiden/ironmaiden.html#1\n",
      "http://www.darklyrics.com/lyrics/ironmaiden/ironmaiden.html#1\n"
     ]
    },
    {
     "ename": "IndexError",
     "evalue": "list index out of range",
     "output_type": "error",
     "traceback": [
      "\u001b[0;31m---------------------------------------------------------------------------\u001b[0m",
      "\u001b[0;31mIndexError\u001b[0m                                Traceback (most recent call last)",
      "\u001b[0;32m<ipython-input-7-5ea071969857>\u001b[0m in \u001b[0;36m<module>\u001b[0;34m()\u001b[0m\n\u001b[1;32m     14\u001b[0m         \u001b[0msong_soup\u001b[0m \u001b[0;34m=\u001b[0m \u001b[0mBeautifulSoup\u001b[0m\u001b[0;34m(\u001b[0m\u001b[0msong_page\u001b[0m\u001b[0;34m,\u001b[0m \u001b[0;34m\"html.parser\"\u001b[0m\u001b[0;34m)\u001b[0m\u001b[0;34m\u001b[0m\u001b[0;34m\u001b[0m\u001b[0m\n\u001b[1;32m     15\u001b[0m \u001b[0;34m\u001b[0m\u001b[0m\n\u001b[0;32m---> 16\u001b[0;31m         \u001b[0mlyrics_section\u001b[0m \u001b[0;34m=\u001b[0m \u001b[0msong_soup\u001b[0m\u001b[0;34m.\u001b[0m\u001b[0mfind_all\u001b[0m\u001b[0;34m(\u001b[0m\u001b[0mattrs\u001b[0m\u001b[0;34m=\u001b[0m\u001b[0;34m{\u001b[0m\u001b[0;34m\"class\"\u001b[0m\u001b[0;34m:\u001b[0m\u001b[0;34m\"lyrics\"\u001b[0m\u001b[0;34m}\u001b[0m\u001b[0;34m)\u001b[0m\u001b[0;34m[\u001b[0m\u001b[0;36m0\u001b[0m\u001b[0;34m]\u001b[0m\u001b[0;34m\u001b[0m\u001b[0;34m\u001b[0m\u001b[0m\n\u001b[0m\u001b[1;32m     17\u001b[0m         \u001b[0mlyrics_elem_list\u001b[0m \u001b[0;34m=\u001b[0m \u001b[0;34m[\u001b[0m\u001b[0mel\u001b[0m \u001b[0;32mfor\u001b[0m \u001b[0mel\u001b[0m \u001b[0;32min\u001b[0m \u001b[0mlyrics_section\u001b[0m \u001b[0;32mif\u001b[0m \u001b[0mel\u001b[0m \u001b[0;32mnot\u001b[0m \u001b[0;32min\u001b[0m \u001b[0;34m[\u001b[0m\u001b[0;34m\"\\n\"\u001b[0m\u001b[0;34m,\u001b[0m \u001b[0;34m\"<br/>\"\u001b[0m\u001b[0;34m]\u001b[0m\u001b[0;34m]\u001b[0m\u001b[0;34m\u001b[0m\u001b[0;34m\u001b[0m\u001b[0m\n\u001b[1;32m     18\u001b[0m         \u001b[0msong_headers\u001b[0m \u001b[0;34m=\u001b[0m \u001b[0mlyrics_section\u001b[0m\u001b[0;34m.\u001b[0m\u001b[0mfind_all\u001b[0m\u001b[0;34m(\u001b[0m\u001b[0;34m\"h3\"\u001b[0m\u001b[0;34m)\u001b[0m\u001b[0;34m\u001b[0m\u001b[0;34m\u001b[0m\u001b[0m\n",
      "\u001b[0;31mIndexError\u001b[0m: list index out of range"
     ]
    }
   ],
   "source": [
    "songs = list([])\n",
    "song_maps = []\n",
    "for album in df_band_albums[\"album\"].unique():\n",
    "    print()\n",
    "    q = \"album==\\\"\"+album+\"\\\"\"\n",
    "    print(q)\n",
    "    song_info = df_band_albums.query(q).loc[:,\"songs\"].values[0]\n",
    "    for si in song_info:\n",
    "        sleep(1)\n",
    "        print(si[0], \"\\t\", si[1])\n",
    "        song_href = si[1].replace(\"\\\\\",\"/\")\n",
    "        print(song_href)\n",
    "        song_page = requests.get(song_href).text\n",
    "        song_soup = BeautifulSoup(song_page, \"html.parser\")\n",
    "        \n",
    "        lyrics_section = song_soup.find_all(attrs={\"class\":\"lyrics\"})[0]\n",
    "        lyrics_elem_list = [el for el in lyrics_section if el not in [\"\\n\", \"<br/>\"]]\n",
    "        song_headers = lyrics_section.find_all(\"h3\")\n",
    "        song_headers = [h.text for h in song_headers]\n",
    "        song_lyrics = [list(g) for k, g in groupby(lyrics_elem_list, key=lambda x: x.name != \"h3\") if k]\n",
    "        # Get just the text\n",
    "        song_lyrics = [[h for h in song if isinstance(h,str)] for song in song_lyrics]\n",
    "        song_map = {\n",
    "            \"title\":[],\n",
    "            \"lyrics\":[]\n",
    "        }\n",
    "        \n",
    "        for t,l in list(zip(song_headers, song_lyrics)):\n",
    "            song_map[\"title\"].append(t)\n",
    "            song_map[\"lyrics\"].append(l)\n",
    "        \n",
    "        song_map = pd.DataFrame(song_map)\n",
    "        song_map[\"album\"] = album\n",
    "        song_map[\"year\"] = df_band_albums.query(q).loc[:,\"year\"].values[0]\n",
    "        song_maps.append(pd.DataFrame(song_map))\n",
    "        \n",
    "        sleep(1)"
   ]
  },
  {
   "cell_type": "code",
   "execution_count": 177,
   "metadata": {
    "scrolled": false
   },
   "outputs": [
    {
     "data": {
      "text/plain": [
       "''"
      ]
     },
     "execution_count": 177,
     "metadata": {},
     "output_type": "execute_result"
    }
   ],
   "source": [
    "song_maps_df = pd.concat(song_maps)\n",
    "song_maps_df.to_csv(\"./songs.csv\")"
   ]
  }
 ],
 "metadata": {
  "kernelspec": {
   "display_name": "Python 3",
   "language": "python",
   "name": "python3"
  },
  "language_info": {
   "codemirror_mode": {
    "name": "ipython",
    "version": 3
   },
   "file_extension": ".py",
   "mimetype": "text/x-python",
   "name": "python",
   "nbconvert_exporter": "python",
   "pygments_lexer": "ipython3",
   "version": "3.6.7"
  }
 },
 "nbformat": 4,
 "nbformat_minor": 2
}
